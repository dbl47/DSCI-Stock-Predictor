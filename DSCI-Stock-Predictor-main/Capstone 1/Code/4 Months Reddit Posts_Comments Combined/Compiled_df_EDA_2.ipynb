{
 "cells": [
  {
   "cell_type": "code",
   "execution_count": null,
   "metadata": {},
   "outputs": [],
   "source": [
    "import json\n",
    "import pandas as pd\n",
    "import numpy as np\n",
    "from matplotlib import pyplot as plt\n",
    "from nltk.sentiment import SentimentIntensityAnalyzer\n",
    "import nltk\n",
    "#nltk.download()"
   ]
  },
  {
   "cell_type": "code",
   "execution_count": null,
   "metadata": {},
   "outputs": [],
   "source": []
  },
  {
   "cell_type": "code",
   "execution_count": 3,
   "metadata": {},
   "outputs": [],
   "source": [
    "with open(\"Tesla_Comments.json\", \"r\") as file:\n",
    "    tesla_data = json.load(file)\n",
    "    \n",
    "with open(\"GE_Comments.json\", \"r\") as file:\n",
    "    ge_data = json.load(file)\n",
    "    \n",
    "with open(\"AMD_Comments.json\", \"r\") as file:\n",
    "    amd_data = json.load(file)\n",
    "    \n",
    "with open(\"NVDA_Comments.json\", \"r\") as file:\n",
    "    nvda_data = json.load(file)\n",
    "\n",
    "    \n",
    "tesla_stock_data = pd.read_csv(\"TSLA.csv\")\n",
    "ge_stock_data = pd.read_csv(\"GE.csv\")\n",
    "amd_stock_data = pd.read_csv(\"AMD.csv\")\n",
    "nvda_stock_data = pd.read_csv(\"NVDA.csv\")\n",
    "\n",
    "comms = [tesla_data, ge_data, amd_data, nvda_data]\n",
    "stocs = [tesla_stock_data, ge_stock_data, amd_stock_data, nvda_stock_data]\n",
    "tickers = [\"TSLA\",\"GE\",\"AMD\",\"NVDA\"]"
   ]
  },
  {
   "cell_type": "code",
   "execution_count": 4,
   "metadata": {},
   "outputs": [],
   "source": [
    "# Combining and Cleaning Finance and Social Media data\n",
    "\n",
    "combined = pd.DataFrame()\n",
    "for comm, stoc, ticker in zip(comms, stocs, tickers):\n",
    "    \n",
    "    df_comments = pd.json_normalize(comm).transpose()\n",
    "    \n",
    "    df_stock_info = stoc.set_index(\"Date\")\n",
    "    \n",
    "    joined_df = df_stock_info.join(df_comments)\n",
    "    \n",
    "    joined_df[\"Price_Change\"] = joined_df[\"Close\"] - joined_df[\"Open\"]\n",
    "\n",
    "    def dire(x):\n",
    "        if x>0:\n",
    "            return \"up\"\n",
    "        elif x<0:\n",
    "            return \"down\"\n",
    "        else:\n",
    "            return \"no change\"\n",
    "\n",
    "    joined_df[\"Direction\"] = joined_df[\"Price_Change\"].apply(dire) \n",
    "\n",
    "    joined_df[\"Ticker\"] = ticker\n",
    "\n",
    "    joined_df2 = joined_df.rename(columns={\"Open\":\"Open_Price\",\"High\":\"High_Price\",\"Low\":\"Low_Price\",\"Close\":\"Close_Price\",\n",
    "                              \"Volume\":\"Trade_Volume\",\"Direction\":\"Price_Direction\",0:\"Posts/Comments\"})\n",
    "    \n",
    "    joined_df3 = joined_df2c\n",
    "    \n",
    "    combined = pd.concat([combined,joined_df3])"
   ]
  },
  {
   "cell_type": "code",
   "execution_count": 84,
   "metadata": {},
   "outputs": [],
   "source": [
    "# Create Count and Sentiment Columns\n",
    "\n",
    "Number_of_Posts_Comments = []\n",
    "Positive_Sentiment = []\n",
    "Negative_Sentiment = []\n",
    "sia = SentimentIntensityAnalyzer()\n",
    "for p_cs in combined[\"Posts/Comments\"]:\n",
    "    Number_of_Posts_Comments.append(len(p_cs))\n",
    "    \n",
    "    # sentiments for each comment in a single day\n",
    "    tot_pos = 0\n",
    "    tot_neg = 0\n",
    "    for comment in p_cs:\n",
    "        pos = sia.polarity_scores(comment)[\"pos\"]\n",
    "        tot_pos = tot_pos + pos\n",
    "        \n",
    "        neg = sia.polarity_scores(comment)[\"neg\"]\n",
    "        tot_neg = tot_neg + neg\n",
    "        \n",
    "    Positive_Sentiment.append(tot_pos)\n",
    "    Negative_Sentiment.append(tot_neg) "
   ]
  },
  {
   "cell_type": "code",
   "execution_count": 85,
   "metadata": {},
   "outputs": [],
   "source": [
    "combined[\"Number_of_Posts_Comments\"] = Number_of_Posts_Comments\n",
    "combined[\"Positive_Sentiment\"] = Positive_Sentiment\n",
    "combined[\"Negative_Sentiment\"] = Negative_Sentiment\n",
    "\n",
    "combined2 = combined[[\"Ticker\",\"Posts/Comments\",\"Number_of_Posts_Comments\",\n",
    "                      \"Positive_Sentiment\",\"Negative_Sentiment\",\"Price_Change\",\n",
    "                      \"Price_Direction\",\"Open_Price\",\"Close_Price\",\"High_Price\",\n",
    "                      \"Low_Price\",\"Trade_Volume\"]]"
   ]
  },
  {
   "cell_type": "code",
   "execution_count": 86,
   "metadata": {},
   "outputs": [
    {
     "data": {
      "text/html": [
       "<div>\n",
       "<style scoped>\n",
       "    .dataframe tbody tr th:only-of-type {\n",
       "        vertical-align: middle;\n",
       "    }\n",
       "\n",
       "    .dataframe tbody tr th {\n",
       "        vertical-align: top;\n",
       "    }\n",
       "\n",
       "    .dataframe thead th {\n",
       "        text-align: right;\n",
       "    }\n",
       "</style>\n",
       "<table border=\"1\" class=\"dataframe\">\n",
       "  <thead>\n",
       "    <tr style=\"text-align: right;\">\n",
       "      <th></th>\n",
       "      <th>Ticker</th>\n",
       "      <th>Posts/Comments</th>\n",
       "      <th>Number_of_Posts_Comments</th>\n",
       "      <th>Positive_Sentiment</th>\n",
       "      <th>Negative_Sentiment</th>\n",
       "      <th>Price_Change</th>\n",
       "      <th>Price_Direction</th>\n",
       "      <th>Open_Price</th>\n",
       "      <th>Close_Price</th>\n",
       "      <th>High_Price</th>\n",
       "      <th>Low_Price</th>\n",
       "      <th>Trade_Volume</th>\n",
       "    </tr>\n",
       "    <tr>\n",
       "      <th>Date</th>\n",
       "      <th></th>\n",
       "      <th></th>\n",
       "      <th></th>\n",
       "      <th></th>\n",
       "      <th></th>\n",
       "      <th></th>\n",
       "      <th></th>\n",
       "      <th></th>\n",
       "      <th></th>\n",
       "      <th></th>\n",
       "      <th></th>\n",
       "      <th></th>\n",
       "    </tr>\n",
       "  </thead>\n",
       "  <tbody>\n",
       "    <tr>\n",
       "      <th>2021-01-04</th>\n",
       "      <td>TSLA</td>\n",
       "      <td>[Hallo,\\n\\nwegwerfaccount wegen Privatsphäre.\\...</td>\n",
       "      <td>4</td>\n",
       "      <td>0.230</td>\n",
       "      <td>0.194</td>\n",
       "      <td>10.309998</td>\n",
       "      <td>up</td>\n",
       "      <td>719.460022</td>\n",
       "      <td>729.770020</td>\n",
       "      <td>744.489990</td>\n",
       "      <td>717.190002</td>\n",
       "      <td>48638200</td>\n",
       "    </tr>\n",
       "    <tr>\n",
       "      <th>2021-01-05</th>\n",
       "      <td>TSLA</td>\n",
       "      <td>[I'm seriously considering reducing the number...</td>\n",
       "      <td>14</td>\n",
       "      <td>1.311</td>\n",
       "      <td>0.608</td>\n",
       "      <td>11.450012</td>\n",
       "      <td>up</td>\n",
       "      <td>723.659973</td>\n",
       "      <td>735.109985</td>\n",
       "      <td>740.840027</td>\n",
       "      <td>719.200012</td>\n",
       "      <td>32245200</td>\n",
       "    </tr>\n",
       "    <tr>\n",
       "      <th>2021-01-06</th>\n",
       "      <td>TSLA</td>\n",
       "      <td>[Reuters is reporting that BABA is raising 5 B...</td>\n",
       "      <td>9</td>\n",
       "      <td>1.422</td>\n",
       "      <td>0.400</td>\n",
       "      <td>-2.510010</td>\n",
       "      <td>down</td>\n",
       "      <td>758.489990</td>\n",
       "      <td>755.979980</td>\n",
       "      <td>774.000000</td>\n",
       "      <td>749.099976</td>\n",
       "      <td>44700000</td>\n",
       "    </tr>\n",
       "    <tr>\n",
       "      <th>2021-01-07</th>\n",
       "      <td>TSLA</td>\n",
       "      <td>[[removed], Sorry, your [submission](https://w...</td>\n",
       "      <td>4</td>\n",
       "      <td>0.255</td>\n",
       "      <td>0.450</td>\n",
       "      <td>38.409973</td>\n",
       "      <td>up</td>\n",
       "      <td>777.630005</td>\n",
       "      <td>816.039978</td>\n",
       "      <td>816.989990</td>\n",
       "      <td>775.200012</td>\n",
       "      <td>51498900</td>\n",
       "    </tr>\n",
       "    <tr>\n",
       "      <th>2021-01-08</th>\n",
       "      <td>TSLA</td>\n",
       "      <td>[Building my own ETF per say. Would like some ...</td>\n",
       "      <td>8</td>\n",
       "      <td>0.791</td>\n",
       "      <td>0.442</td>\n",
       "      <td>24.020020</td>\n",
       "      <td>up</td>\n",
       "      <td>856.000000</td>\n",
       "      <td>880.020020</td>\n",
       "      <td>884.489990</td>\n",
       "      <td>838.390015</td>\n",
       "      <td>75055500</td>\n",
       "    </tr>\n",
       "    <tr>\n",
       "      <th>...</th>\n",
       "      <td>...</td>\n",
       "      <td>...</td>\n",
       "      <td>...</td>\n",
       "      <td>...</td>\n",
       "      <td>...</td>\n",
       "      <td>...</td>\n",
       "      <td>...</td>\n",
       "      <td>...</td>\n",
       "      <td>...</td>\n",
       "      <td>...</td>\n",
       "      <td>...</td>\n",
       "      <td>...</td>\n",
       "    </tr>\n",
       "    <tr>\n",
       "      <th>2021-04-23</th>\n",
       "      <td>NVDA</td>\n",
       "      <td>[]</td>\n",
       "      <td>1</td>\n",
       "      <td>0.000</td>\n",
       "      <td>0.000</td>\n",
       "      <td>13.239990</td>\n",
       "      <td>up</td>\n",
       "      <td>597.369995</td>\n",
       "      <td>610.609985</td>\n",
       "      <td>613.400024</td>\n",
       "      <td>596.010010</td>\n",
       "      <td>5687500</td>\n",
       "    </tr>\n",
       "    <tr>\n",
       "      <th>2021-04-26</th>\n",
       "      <td>NVDA</td>\n",
       "      <td>[]</td>\n",
       "      <td>0</td>\n",
       "      <td>0.000</td>\n",
       "      <td>0.000</td>\n",
       "      <td>11.719971</td>\n",
       "      <td>up</td>\n",
       "      <td>607.400024</td>\n",
       "      <td>619.119995</td>\n",
       "      <td>619.159973</td>\n",
       "      <td>605.000000</td>\n",
       "      <td>4944900</td>\n",
       "    </tr>\n",
       "    <tr>\n",
       "      <th>2021-04-27</th>\n",
       "      <td>NVDA</td>\n",
       "      <td>[]</td>\n",
       "      <td>0</td>\n",
       "      <td>0.000</td>\n",
       "      <td>0.000</td>\n",
       "      <td>-7.869995</td>\n",
       "      <td>down</td>\n",
       "      <td>623.140015</td>\n",
       "      <td>615.270020</td>\n",
       "      <td>626.820007</td>\n",
       "      <td>614.179993</td>\n",
       "      <td>4114300</td>\n",
       "    </tr>\n",
       "    <tr>\n",
       "      <th>2021-04-28</th>\n",
       "      <td>NVDA</td>\n",
       "      <td>[]</td>\n",
       "      <td>0</td>\n",
       "      <td>0.000</td>\n",
       "      <td>0.000</td>\n",
       "      <td>-3.510010</td>\n",
       "      <td>down</td>\n",
       "      <td>614.580017</td>\n",
       "      <td>611.070007</td>\n",
       "      <td>621.289978</td>\n",
       "      <td>608.619995</td>\n",
       "      <td>5235400</td>\n",
       "    </tr>\n",
       "    <tr>\n",
       "      <th>2021-04-29</th>\n",
       "      <td>NVDA</td>\n",
       "      <td>[Hi everyone,\\n\\nI'm back in the Jaws ecosyste...</td>\n",
       "      <td>1</td>\n",
       "      <td>0.105</td>\n",
       "      <td>0.033</td>\n",
       "      <td>-3.010010</td>\n",
       "      <td>down</td>\n",
       "      <td>616.000000</td>\n",
       "      <td>612.989990</td>\n",
       "      <td>617.460022</td>\n",
       "      <td>602.859985</td>\n",
       "      <td>4329900</td>\n",
       "    </tr>\n",
       "  </tbody>\n",
       "</table>\n",
       "<p>324 rows × 12 columns</p>\n",
       "</div>"
      ],
      "text/plain": [
       "           Ticker                                     Posts/Comments  \\\n",
       "Date                                                                   \n",
       "2021-01-04   TSLA  [Hallo,\\n\\nwegwerfaccount wegen Privatsphäre.\\...   \n",
       "2021-01-05   TSLA  [I'm seriously considering reducing the number...   \n",
       "2021-01-06   TSLA  [Reuters is reporting that BABA is raising 5 B...   \n",
       "2021-01-07   TSLA  [[removed], Sorry, your [submission](https://w...   \n",
       "2021-01-08   TSLA  [Building my own ETF per say. Would like some ...   \n",
       "...           ...                                                ...   \n",
       "2021-04-23   NVDA                                                 []   \n",
       "2021-04-26   NVDA                                                 []   \n",
       "2021-04-27   NVDA                                                 []   \n",
       "2021-04-28   NVDA                                                 []   \n",
       "2021-04-29   NVDA  [Hi everyone,\\n\\nI'm back in the Jaws ecosyste...   \n",
       "\n",
       "            Number_of_Posts_Comments  Positive_Sentiment  Negative_Sentiment  \\\n",
       "Date                                                                           \n",
       "2021-01-04                         4               0.230               0.194   \n",
       "2021-01-05                        14               1.311               0.608   \n",
       "2021-01-06                         9               1.422               0.400   \n",
       "2021-01-07                         4               0.255               0.450   \n",
       "2021-01-08                         8               0.791               0.442   \n",
       "...                              ...                 ...                 ...   \n",
       "2021-04-23                         1               0.000               0.000   \n",
       "2021-04-26                         0               0.000               0.000   \n",
       "2021-04-27                         0               0.000               0.000   \n",
       "2021-04-28                         0               0.000               0.000   \n",
       "2021-04-29                         1               0.105               0.033   \n",
       "\n",
       "            Price_Change Price_Direction  Open_Price  Close_Price  High_Price  \\\n",
       "Date                                                                            \n",
       "2021-01-04     10.309998              up  719.460022   729.770020  744.489990   \n",
       "2021-01-05     11.450012              up  723.659973   735.109985  740.840027   \n",
       "2021-01-06     -2.510010            down  758.489990   755.979980  774.000000   \n",
       "2021-01-07     38.409973              up  777.630005   816.039978  816.989990   \n",
       "2021-01-08     24.020020              up  856.000000   880.020020  884.489990   \n",
       "...                  ...             ...         ...          ...         ...   \n",
       "2021-04-23     13.239990              up  597.369995   610.609985  613.400024   \n",
       "2021-04-26     11.719971              up  607.400024   619.119995  619.159973   \n",
       "2021-04-27     -7.869995            down  623.140015   615.270020  626.820007   \n",
       "2021-04-28     -3.510010            down  614.580017   611.070007  621.289978   \n",
       "2021-04-29     -3.010010            down  616.000000   612.989990  617.460022   \n",
       "\n",
       "             Low_Price  Trade_Volume  \n",
       "Date                                  \n",
       "2021-01-04  717.190002      48638200  \n",
       "2021-01-05  719.200012      32245200  \n",
       "2021-01-06  749.099976      44700000  \n",
       "2021-01-07  775.200012      51498900  \n",
       "2021-01-08  838.390015      75055500  \n",
       "...                ...           ...  \n",
       "2021-04-23  596.010010       5687500  \n",
       "2021-04-26  605.000000       4944900  \n",
       "2021-04-27  614.179993       4114300  \n",
       "2021-04-28  608.619995       5235400  \n",
       "2021-04-29  602.859985       4329900  \n",
       "\n",
       "[324 rows x 12 columns]"
      ]
     },
     "execution_count": 86,
     "metadata": {},
     "output_type": "execute_result"
    }
   ],
   "source": [
    "combined2"
   ]
  },
  {
   "cell_type": "code",
   "execution_count": null,
   "metadata": {},
   "outputs": [],
   "source": []
  },
  {
   "cell_type": "code",
   "execution_count": null,
   "metadata": {},
   "outputs": [],
   "source": [
    "\n"
   ]
  },
  {
   "cell_type": "code",
   "execution_count": null,
   "metadata": {},
   "outputs": [],
   "source": [
    "\n"
   ]
  },
  {
   "cell_type": "code",
   "execution_count": 87,
   "metadata": {},
   "outputs": [
    {
     "data": {
      "text/plain": [
       "<matplotlib.legend.Legend at 0x7f807c505d90>"
      ]
     },
     "execution_count": 87,
     "metadata": {},
     "output_type": "execute_result"
    },
    {
     "data": {
      "image/png": "[encoded data removed]",
      "text/plain": [
       "<Figure size 1008x432 with 1 Axes>"
      ]
     },
     "metadata": {
      "needs_background": "light"
     },
     "output_type": "display_data"
    }
   ],
   "source": [
    "# Comment Frequency EDA Visualization\n",
    "\n",
    "num_comms_day = []\n",
    "for comm in combined2[\"Posts/Comments\"]:\n",
    "    num_comms_day.append(len(comm))\n",
    "\n",
    "mean2 = np.mean(num_comms_day)\n",
    "median2 = np.median(num_comms_day)\n",
    "sta_d = np.std(num_comms_day)\n",
    "outliers = (mean2 + (3 * sta_d))\n",
    "   \n",
    "    \n",
    "# GRAPH\n",
    "hist_fig = plt.figure(figsize = (14, 6))\n",
    "    \n",
    "plt.hist(num_comms_day, bins = 30, range = [0,55])\n",
    "\n",
    "plt.title(\"Frequency of how often there were a certain # of Comments in a Day (Histogram)\", fontsize = 15)\n",
    "plt.tick_params(labelsize = 15)\n",
    "plt.ylabel(\"Comment Frequency\", fontsize = 15)\n",
    "plt.xlabel(\"Number of Comments in Day\", fontsize = 15)\n",
    "\n",
    "plt.axvline(mean2, color = 'm', linewidth = 2.5, label = \"Mean\")\n",
    "plt.axvline(median2, color = 'r', linewidth = 2.5, label = \"Median\")\n",
    "plt.axvline(outliers, color = 'y', linewidth = 2.5, label = \"Outliers->\")\n",
    "plt.legend(fontsize = 15)\n"
   ]
  },
  {
   "cell_type": "code",
   "execution_count": 88,
   "metadata": {
    "scrolled": false
   },
   "outputs": [],
   "source": [
    "# There's a pretty even distribution of comments on a day until we get to below 5\n",
    "\n",
    "\n"
   ]
  },
  {
   "cell_type": "code",
   "execution_count": 89,
   "metadata": {},
   "outputs": [
    {
     "data": {
      "text/plain": [
       "Text(0.5, 0, 'Number of Comments in Day')"
      ]
     },
     "execution_count": 89,
     "metadata": {},
     "output_type": "execute_result"
    },
    {
     "data": {
      "image/png": "[encoded data removed]",
      "text/plain": [
       "<Figure size 1008x432 with 1 Axes>"
      ]
     },
     "metadata": {
      "needs_background": "light"
     },
     "output_type": "display_data"
    }
   ],
   "source": [
    "# Stock Price Change vs Comments Per Day EDA Visualization\n",
    "\n",
    "ticker = list(combined2[\"Ticker\"].values)\n",
    "\n",
    "colors = []\n",
    "for t in ticker:\n",
    "    if t == \"TSLA\":\n",
    "        colors.append(\"red\")\n",
    "    elif t == \"AMD\":\n",
    "        colors.append(\"green\")\n",
    "    elif t == \"NVDA\":\n",
    "        colors.append(\"blue\")\n",
    "    elif t == \"GE\":\n",
    "        colors.append(\"black\")\n",
    "\n",
    "num_comms_day\n",
    "p_change = list(combined2[\"Price_Change\"].values)\n",
    "\n",
    "# GRAPH\n",
    "scat_fig = plt.figure(figsize = (14, 6))\n",
    "     \n",
    "    \n",
    "for i in range(len(ticker)):\n",
    "    plt.scatter(num_comms_day[i], p_change[i], c=colors[i])\n",
    "\n",
    "plt.title(\"Stock Price Change vs # of Comments per Day\", fontsize = 15)\n",
    "plt.tick_params(labelsize = 15)\n",
    "plt.ylabel(\"Stock Price Change\", fontsize = 15)\n",
    "plt.xlabel(\"Number of Comments in Day\", fontsize = 15)"
   ]
  },
  {
   "cell_type": "code",
   "execution_count": 9,
   "metadata": {},
   "outputs": [],
   "source": [
    "## ABOVE interesting, Company with fewer number of comments in day have more price volatility."
   ]
  },
  {
   "cell_type": "code",
   "execution_count": null,
   "metadata": {},
   "outputs": [],
   "source": [
    "\n"
   ]
  },
  {
   "cell_type": "code",
   "execution_count": 95,
   "metadata": {},
   "outputs": [
    {
     "data": {
      "text/plain": [
       "<matplotlib.legend.Legend at 0x7f8073dcefd0>"
      ]
     },
     "execution_count": 95,
     "metadata": {},
     "output_type": "execute_result"
    },
    {
     "data": {
      "image/png": "[encoded data removed]",
      "text/plain": [
       "<Figure size 1008x432 with 1 Axes>"
      ]
     },
     "metadata": {
      "needs_background": "light"
     },
     "output_type": "display_data"
    }
   ],
   "source": [
    "# Stock Price Change vs Sentiment EDA Visualization\n",
    "\n",
    "p_change = list(combined2[\"Price_Change\"].values)\n",
    "p_sent = list(combined2[\"Positive_Sentiment\"].values)\n",
    "n_sent = list(combined2[\"Negative_Sentiment\"].values)\n",
    "\n",
    "\n",
    "# GRAPH\n",
    "scat_fig = plt.figure(figsize = (14, 6))\n",
    "\n",
    "plt.scatter(p_sent, p_change, label = \"Total Positive Sentiment\")\n",
    "plt.scatter(n_sent, p_change, label = \"Total Negative Sentiment\")\n",
    "\n",
    "plt.title(\"Stock Price Change vs Sentiment (Per Day)\", fontsize = 15)\n",
    "plt.tick_params(labelsize = 15)\n",
    "plt.ylabel(\"Stock Price Change\", fontsize = 15)\n",
    "plt.xlabel(\"Sentiment\", fontsize = 15)\n",
    "\n",
    "plt.legend()"
   ]
  },
  {
   "cell_type": "code",
   "execution_count": null,
   "metadata": {},
   "outputs": [],
   "source": [
    "# When Strong Sentiment is low, volatility is high"
   ]
  },
  {
   "cell_type": "code",
   "execution_count": null,
   "metadata": {},
   "outputs": [],
   "source": [
    "\n",
    "# More Analysis...\n",
    "\n",
    "\n",
    "###  When sentiment/feelings and number of comments are low, Price Volatility is High\n",
    "\n",
    "### When lot of sentiment/strong feelings and comments are high, Price Volatility is Low\n",
    "\n",
    "# This is surprising, you would have thought this was the other way around. \n",
    "# The need for more data may be required, as the visualization shows each company...\n",
    "    #...is clustered in a particular spot on the graph."
   ]
  },
  {
   "cell_type": "code",
   "execution_count": null,
   "metadata": {},
   "outputs": [],
   "source": [
    "### HOWEVER... it appears, even amongst each individual company, the scatter...\n",
    "    ###... plots appear to show an even distribution along the y axis.  This doesn't \n",
    "    ###... point to strong hope of spotting any strong correlations."
   ]
  }
 ],
 "metadata": {
  "kernelspec": {
   "display_name": "Python 3",
   "language": "python",
   "name": "python3"
  },
  "language_info": {
   "codemirror_mode": {
    "name": "ipython",
    "version": 3
   },
   "file_extension": ".py",
   "mimetype": "text/x-python",
   "name": "python",
   "nbconvert_exporter": "python",
   "pygments_lexer": "ipython3",
   "version": "3.7.4"
  }
 },
 "nbformat": 4,
 "nbformat_minor": 2
}
