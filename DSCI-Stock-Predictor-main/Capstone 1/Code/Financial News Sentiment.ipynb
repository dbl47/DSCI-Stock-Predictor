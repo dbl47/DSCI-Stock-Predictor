{
 "cells": [
  {
   "cell_type": "code",
   "execution_count": 1,
   "metadata": {},
   "outputs": [],
   "source": [
    "import os\n",
    "import requests\n",
    "from datetime import datetime, timedelta\n",
    "import time\n",
    "import warnings\n",
    "import pandas as pd\n",
    "import numpy as np\n",
    "from pycorenlp import StanfordCoreNLP\n",
    "\n",
    "warnings.filterwarnings('ignore')\n",
    "\n",
    "#Connect to running Stanford NLP server\n",
    "nlp = StanfordCoreNLP('http://localhost:9000')\n",
    "\n",
    "def get_news(ticker, date):\n",
    "    FINNHUB_API_KEY = \"c3dhc1iad3icrjj6i7qg\"\n",
    "    r = requests.get(f'https://finnhub.io/api/v1/company-news?symbol={ticker}&from={date}&to={date}&token={FINNHUB_API_KEY}',\n",
    "                 verify=False)\n",
    "    data = r.json()\n",
    "    h = []\n",
    "    for d in data:\n",
    "        d['date'] = datetime.utcfromtimestamp(d['datetime']).strftime('%Y-%m-%d')\n",
    "        h.append([d['id'], d['category'], d['date'], d['headline'], d['related'], d['source'], d['summary'], d['url']])\n",
    "\n",
    "    df = pd.DataFrame(h, columns=['id', 'category', 'date', 'headline', 'related', 'source', 'summary', 'url'])\n",
    "    df['date'] = pd.to_datetime(df['date'])\n",
    "    return df\n",
    "\n",
    "def increment_one_day(str_date):\n",
    "    _date = datetime.strptime(str_date, '%Y-%m-%d') + timedelta(days=1)\n",
    "    _date = _date.strftime('%Y-%m-%d')\n",
    "    return _date\n",
    "\n",
    "def get_sentiment(text):\n",
    "    result = nlp.annotate(text, properties={\n",
    "                       'annotators': 'sentiment',\n",
    "                       'outputFormat': 'json',\n",
    "                       'timeout': 5000,\n",
    "                   })\n",
    "    return np.mean([int(i['sentimentValue']) for i in result['sentences']])\n",
    "\n",
    "\n",
    "tickers = ['TSLA', 'GE', 'NVDA', 'AMD']\n",
    "\n",
    "all_news = pd.DataFrame([])\n",
    "\n",
    "for ticker in tickers:\n",
    "    #start date\n",
    "    _date = '2020-07-08'\n",
    "    \n",
    "    #create empty dataframe\n",
    "    df = pd.DataFrame([])\n",
    "    \n",
    "    #loop over dates and get news articles and append to dataframe : limit 60 api calls per minute\n",
    "    while _date != datetime.today().strftime('%Y-%m-%d'):\n",
    "        df = df.append(get_news(ticker, _date))\n",
    "        df = df.drop_duplicates()\n",
    "        time.sleep(1.1)\n",
    "        _date = increment_one_day(_date)\n",
    "    \n",
    "    #There are some repeat headlines on the same day, so getting a daily headline count per article\n",
    "    #Maybe duplicates of the same headline indicates more important news??\n",
    "    duplicate_headlines = df[['date', 'headline', 'id']]\n",
    "    dh = (duplicate_headlines.groupby(['date', 'headline'], as_index=False)\n",
    "          .count()\n",
    "          .rename(columns={'id': 'headline_count'}))\n",
    "      \n",
    "    # Get unique headlines by date\n",
    "    no_dups = df.drop_duplicates(subset=['date', 'headline'])\n",
    "    \n",
    "    #Merge in headline counts\n",
    "    no_dups = no_dups.merge(dh, how='left', on=['date', 'headline'])\n",
    "    \n",
    "    #Insert ticker\n",
    "    no_dups.insert(0, 'ticker', ticker)\n",
    "    \n",
    "    #Append to dataframe that has all tickers\n",
    "    all_news = all_news.append(no_dups)\n",
    "    \n",
    "\"\"\"\n",
    "Loop over each headline, get the sentiment, then create sentiment column in dataframe\n",
    "\n",
    "Stanford NLP Sentiment Scale:\n",
    "0: Very Negative\n",
    "1: Negative\n",
    "2: Neutral\n",
    "3: Positive\n",
    "4: Very Positive\n",
    "\"\"\"\n",
    "sent = []\n",
    "error_count = 0\n",
    "for i in all_news['headline'].tolist():\n",
    "    text = str(i)\n",
    "    try:\n",
    "        sent.append(get_sentiment(text))\n",
    "    except:\n",
    "        sent.append(-1)\n",
    "        error_count += 1\n",
    "all_news['sentiment'] = sent\n"
   ]
  },
  {
   "cell_type": "code",
   "execution_count": 2,
   "metadata": {},
   "outputs": [
    {
     "data": {
      "text/plain": [
       "0"
      ]
     },
     "execution_count": 2,
     "metadata": {},
     "output_type": "execute_result"
    }
   ],
   "source": [
    "error_count"
   ]
  },
  {
   "cell_type": "code",
   "execution_count": null,
   "metadata": {},
   "outputs": [],
   "source": []
  },
  {
   "cell_type": "code",
   "execution_count": null,
   "metadata": {},
   "outputs": [],
   "source": []
  }
 ],
 "metadata": {
  "kernelspec": {
   "display_name": "Python 3",
   "language": "python",
   "name": "python3"
  },
  "language_info": {
   "codemirror_mode": {
    "name": "ipython",
    "version": 3
   },
   "file_extension": ".py",
   "mimetype": "text/x-python",
   "name": "python",
   "nbconvert_exporter": "python",
   "pygments_lexer": "ipython3",
   "version": "3.8.3"
  }
 },
 "nbformat": 4,
 "nbformat_minor": 4
}
